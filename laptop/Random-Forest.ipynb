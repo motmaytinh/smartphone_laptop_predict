{
 "cells": [
  {
   "cell_type": "code",
   "execution_count": 1,
   "metadata": {},
   "outputs": [
    {
     "name": "stderr",
     "output_type": "stream",
     "text": [
      "/home/q/Desktop/Workspace/btl/lib/python3.6/site-packages/sklearn/cross_validation.py:41: DeprecationWarning: This module was deprecated in version 0.18 in favor of the model_selection module into which all the refactored classes and functions are moved. Also note that the interface of the new CV iterators are different from that of this module. This module will be removed in 0.20.\n",
      "  \"This module will be removed in 0.20.\", DeprecationWarning)\n"
     ]
    }
   ],
   "source": [
    "import numpy as np\n",
    "import pandas as pd\n",
    "from sklearn.ensemble import RandomForestRegressor\n",
    "from sklearn.metrics import mean_absolute_error\n",
    "from sklearn.cross_validation import train_test_split\n",
    "from sklearn.utils import resample"
   ]
  },
  {
   "cell_type": "code",
   "execution_count": 2,
   "metadata": {},
   "outputs": [],
   "source": [
    "data = pd.read_csv(\"processedlaptopinfo.csv\", sep = \",\")\n",
    "data = data.sample(frac=1).reset_index(drop=True)\n",
    "data = data.drop('Unnamed: 0', axis=1)\n",
    "\n",
    "data = resample(data, n_samples = 470, random_state=0)\n",
    "\n",
    "traindata, testdata = train_test_split(data, test_size=0.2, random_state=0)\n",
    "\n",
    "# traindata = data[:-83]\n",
    "# testdata = data[340:]\n",
    "\n",
    "Xtrain = traindata.drop('Price', axis = 1)\n",
    "ytrain = traindata[['Price']]\n",
    "\n",
    "Xtest = testdata.drop('Price', axis = 1)\n",
    "ytest = testdata[['Price']]\n",
    "\n",
    "# print (data.head())"
   ]
  },
  {
   "cell_type": "code",
   "execution_count": 3,
   "metadata": {
    "scrolled": true
   },
   "outputs": [
    {
     "data": {
      "text/plain": [
       "1667903.1914893617"
      ]
     },
     "execution_count": 3,
     "metadata": {},
     "output_type": "execute_result"
    }
   ],
   "source": [
    "ctf = RandomForestRegressor(n_estimators = 50)\n",
    "ctf.fit(Xtrain, ytrain.values.ravel())\n",
    "ypredict = ctf.predict(Xtest)\n",
    "flattentest = ytest.values.ravel()\n",
    "# print(ytest.values.ravel().shape)\n",
    "# print(ypredict.shape)\n",
    "mean_absolute_error(flattentest, ypredict)"
   ]
  },
  {
   "cell_type": "code",
   "execution_count": null,
   "metadata": {},
   "outputs": [],
   "source": []
  },
  {
   "cell_type": "code",
   "execution_count": null,
   "metadata": {},
   "outputs": [],
   "source": []
  }
 ],
 "metadata": {
  "kernelspec": {
   "display_name": "Python 3",
   "language": "python",
   "name": "python3"
  },
  "language_info": {
   "codemirror_mode": {
    "name": "ipython",
    "version": 3
   },
   "file_extension": ".py",
   "mimetype": "text/x-python",
   "name": "python",
   "nbconvert_exporter": "python",
   "pygments_lexer": "ipython3",
   "version": "3.6.5"
  }
 },
 "nbformat": 4,
 "nbformat_minor": 2
}
