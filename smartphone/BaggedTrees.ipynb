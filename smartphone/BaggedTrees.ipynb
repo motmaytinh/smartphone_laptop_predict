{
 "cells": [
  {
   "cell_type": "code",
   "execution_count": 1,
   "metadata": {},
   "outputs": [],
   "source": [
    "import numpy as np\n",
    "import pandas as pd\n",
    "from sklearn.ensemble import BaggingRegressor\n",
    "from sklearn.tree import DecisionTreeRegressor\n",
    "from sklearn.metrics import mean_absolute_error"
   ]
  },
  {
   "cell_type": "code",
   "execution_count": 2,
   "metadata": {},
   "outputs": [],
   "source": [
    "data = pd.read_csv(\"processedsmartphoneinfo.csv\", sep = \";\")\n",
    "data = data.sample(frac=1).reset_index(drop=True)\n",
    "\n",
    "traindata = data[:-51]\n",
    "testdata = data[230:]\n",
    "\n",
    "Xtrain = traindata.drop('price', axis = 1)\n",
    "ytrain = traindata[['price']]\n",
    "\n",
    "Xtest = testdata.drop('price', axis = 1)\n",
    "ytest = testdata[['price']]"
   ]
  },
  {
   "cell_type": "code",
   "execution_count": 18,
   "metadata": {},
   "outputs": [
    {
     "data": {
      "text/plain": [
       "0.6881665084538087"
      ]
     },
     "execution_count": 18,
     "metadata": {},
     "output_type": "execute_result"
    }
   ],
   "source": [
    "bag = BaggingRegressor(DecisionTreeRegressor(max_depth=10), n_estimators = 75)\n",
    "bag.fit(Xtrain, ytrain.values.ravel())\n",
    "ypredict = bag.predict(Xtest)\n",
    "mean_absolute_error(ytest.values.ravel(), ypredict)"
   ]
  },
  {
   "cell_type": "code",
   "execution_count": null,
   "metadata": {},
   "outputs": [],
   "source": []
  }
 ],
 "metadata": {
  "kernelspec": {
   "display_name": "Python 3",
   "language": "python",
   "name": "python3"
  },
  "language_info": {
   "codemirror_mode": {
    "name": "ipython",
    "version": 3
   },
   "file_extension": ".py",
   "mimetype": "text/x-python",
   "name": "python",
   "nbconvert_exporter": "python",
   "pygments_lexer": "ipython3",
   "version": "3.6.5"
  }
 },
 "nbformat": 4,
 "nbformat_minor": 2
}
