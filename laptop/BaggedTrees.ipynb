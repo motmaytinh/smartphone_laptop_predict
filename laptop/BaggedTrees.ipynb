{
 "cells": [
  {
   "cell_type": "code",
   "execution_count": 21,
   "metadata": {},
   "outputs": [],
   "source": [
    "import numpy as np\n",
    "import pandas as pd\n",
    "from sklearn.ensemble import BaggingRegressor\n",
    "from sklearn.tree import DecisionTreeRegressor\n",
    "from sklearn.metrics import mean_absolute_error\n",
    "from sklearn.metrics import mean_squared_error\n",
    "from statistics import mean, variance, pvariance\n",
    "import matplotlib.pyplot as plt\n",
    "import matplotlib.mlab as mlab\n",
    "import math\n",
    "from sklearn.cross_validation import train_test_split\n",
    "from sklearn.utils import resample"
   ]
  },
  {
   "cell_type": "code",
   "execution_count": 23,
   "metadata": {},
   "outputs": [],
   "source": [
    "data = pd.read_csv(\"processedlaptopinfo.csv\", sep = \",\")\n",
    "data = data.sample(frac=1).reset_index(drop=True)\n",
    "\n",
    "data = data.drop('Unnamed: 0', axis=1)\n",
    "\n",
    "data = resample(data, n_samples = 470, random_state=0)\n",
    "\n",
    "traindata, testdata = train_test_split(data, test_size=0.2, random_state=0)\n",
    "\n",
    "# traindata = data[:-83]\n",
    "# testdata = data[340:]\n",
    "\n",
    "Xtrain = traindata.drop('Price', axis = 1)\n",
    "ytrain = traindata[['Price']]\n",
    "\n",
    "Xtest = testdata.drop('Price', axis = 1)\n",
    "ytest = testdata[['Price']]"
   ]
  },
  {
   "cell_type": "code",
   "execution_count": 24,
   "metadata": {},
   "outputs": [
    {
     "data": {
      "text/plain": [
       "943494.6099290779"
      ]
     },
     "execution_count": 24,
     "metadata": {},
     "output_type": "execute_result"
    }
   ],
   "source": [
    "bag = BaggingRegressor(DecisionTreeRegressor(max_depth=20), n_estimators = 50)\n",
    "bag.fit(Xtrain, ytrain.values.ravel())\n",
    "ypredict = bag.predict(Xtest)\n",
    "mean_absolute_error(ytest.values.ravel(), ypredict)"
   ]
  },
  {
   "cell_type": "code",
   "execution_count": 26,
   "metadata": {},
   "outputs": [
    {
     "name": "stdout",
     "output_type": "stream",
     "text": [
      "[2460000.0, -4079400.0, 38040.0, 909280.0, -456807.93650793843, 41400.0, -1238700.0, -3512000.0, 180200.0, 131260.0, -282920.0, 3091800.0, -576360.0, 10000.0, 788000.0, 1487600.0, -1833980.0, 682800.0, -682000.0, 15680.0, -62000.0, -1893160.0, 563900.0, -584600.0, 358800.0, 2711470.0, -200.0, -2372420.0, -665960.0, -26000.0, -77000.0, 736420.0, 1514400.0, -98000.0, -373980.0, -220720.0, -964560.0, 575820.0, 858020.0, -1206000.0, -193200.0, -4685200.0, 467220.0, -584600.0, 430680.0, 430680.0, -671000.0, 0.0, -233000.0, 10000.0, 0.0, 2711470.0, -178200.0, -173300.0, -754800.0, 815820.0, -2828380.0, -1996280.0, -139600.0, -2372420.0, 5136000.0, -1206000.0, -144000.0, 1429600.0, -1833980.0, -1996280.0, -138000.0, -686366.6666666679, 815820.0, 1675800.0, 288400.0, 2350831.111111108, -2372420.0, 148060.0, 1487600.0, -776000.0, 199800.0, -646140.0, -203000.0, 564000.0, -406400.0, 1061154.2857142836, -591600.0, 0.0, 1068333.333333332, 163000.0, 378800.0, -534400.0, -498600.0, -653600.0, 317800.0, 520400.0, 358800.0, 0.0]\n"
     ]
    },
    {
     "name": "stderr",
     "output_type": "stream",
     "text": [
      "/usr/local/lib/python3.5/dist-packages/ipykernel_launcher.py:9: MatplotlibDeprecationWarning: scipy.stats.norm.pdf\n",
      "  if __name__ == '__main__':\n"
     ]
    },
    {
     "data": {
      "image/png": "[encoded data removed]",
      "text/plain": [
       "<Figure size 432x288 with 1 Axes>"
      ]
     },
     "metadata": {},
     "output_type": "display_data"
    },
    {
     "name": "stdout",
     "output_type": "stream",
     "text": [
      "-92750.80715974343\n",
      "2026424706275.6006\n",
      "1423525.4498166165\n"
     ]
    }
   ],
   "source": [
    "err = []\n",
    "for idx in range(len(ytest.values.ravel())):\n",
    "    err.append(ytest.values.ravel()[idx]-ypredict[idx])\n",
    "print (err)\n",
    "mu = mean(err) #mean_absolute_error(flattentest, ypredict)\n",
    "var = variance(err) #mean_squared_error(flattentest, ypredict)\n",
    "sigma = math.sqrt(var)\n",
    "x = np.linspace(mu - 3*sigma, mu + 3*sigma, 100)\n",
    "plt.plot(x,mlab.normpdf(x, mu, sigma))\n",
    "plt.show()\n",
    "print (mu)\n",
    "print (var)\n",
    "print (sigma)"
   ]
  },
  {
   "cell_type": "code",
   "execution_count": null,
   "metadata": {},
   "outputs": [],
   "source": []
  }
 ],
 "metadata": {
  "kernelspec": {
   "display_name": "Python 3",
   "language": "python",
   "name": "python3"
  },
  "language_info": {
   "codemirror_mode": {
    "name": "ipython",
    "version": 3
   },
   "file_extension": ".py",
   "mimetype": "text/x-python",
   "name": "python",
   "nbconvert_exporter": "python",
   "pygments_lexer": "ipython3",
   "version": "3.5.2"
  }
 },
 "nbformat": 4,
 "nbformat_minor": 2
}
