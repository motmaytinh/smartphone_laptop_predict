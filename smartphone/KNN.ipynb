{
 "cells": [
  {
   "cell_type": "code",
   "execution_count": 1,
   "metadata": {},
   "outputs": [],
   "source": [
    "import numpy as np\n",
    "import pandas as pd\n",
    "from sklearn.neighbors import KNeighborsRegressor\n",
    "from sklearn.metrics import mean_absolute_error\n",
    "from sklearn.metrics import mean_squared_error\n",
    "from statistics import mean, variance, pvariance\n",
    "import matplotlib.pyplot as plt\n",
    "import matplotlib.mlab as mlab\n",
    "import math"
   ]
  },
  {
   "cell_type": "code",
   "execution_count": 5,
   "metadata": {},
   "outputs": [],
   "source": [
    "data = pd.read_csv(\"processedsmartphoneinfo.csv\", sep = \";\")\n",
    "data = data.sample(frac=1).reset_index(drop=True)\n",
    "\n",
    "traindata = data[:-51]\n",
    "testdata = data[230:]\n",
    "\n",
    "Xtrain = traindata.drop('price', axis = 1)\n",
    "ytrain = traindata[['price']]\n",
    "\n",
    "Xtest = testdata.drop('price', axis = 1)\n",
    "ytest = testdata[['price']]"
   ]
  },
  {
   "cell_type": "code",
   "execution_count": 6,
   "metadata": {},
   "outputs": [
    {
     "data": {
      "text/plain": [
       "0.8519803921568626"
      ]
     },
     "execution_count": 6,
     "metadata": {},
     "output_type": "execute_result"
    }
   ],
   "source": [
    "neigh = KNeighborsRegressor(n_neighbors=1)\n",
    "neigh.fit(Xtrain, ytrain.values.ravel())\n",
    "ypredict = neigh.predict(Xtest)\n",
    "mean_absolute_error(ytest.values.ravel(), ypredict)"
   ]
  },
  {
   "cell_type": "code",
   "execution_count": 7,
   "metadata": {},
   "outputs": [
    {
     "name": "stdout",
     "output_type": "stream",
     "text": [
      "[-0.20000000000000018, 0.43100000000000094, 5.800000000000001, -0.6999999999999993, 0.0, -0.3999999999999999, -1.0, -0.5999999999999996, -2.0999999999999996, 0.19999999999999973, -1.0, -0.09999999999999964, 1.0090000000000003, -0.05999999999999983, -0.9000000000000004, 0.5, -1.0, 0.5, 0.20000000000000018, 0.0, 0.40000000000000036, -1.0, 0.0, -0.8999999999999995, -0.20000000000000018, -0.2999999999999998, 0.18999999999999995, -0.040000000000000036, -0.13000000000000034, 0.1999999999999993, -0.20000000000000018, 2.0, 0.8000000000000007, -0.19999999999999973, -2.0, 0.10000000000000009, -0.5, 0.3000000000000007, 0.0, -0.19999999999999996, -0.4909999999999961, 0.19999999999999996, 0.19999999999999996, -0.8999999999999995, 0.0, -4.0, -0.7000000000000002, 0.10000000000000009, 0.3000000000000007, -0.20000000000000018, -9.999999999999998]\n"
     ]
    },
    {
     "name": "stderr",
     "output_type": "stream",
     "text": [
      "/usr/local/lib/python3.5/dist-packages/ipykernel_launcher.py:9: MatplotlibDeprecationWarning: scipy.stats.norm.pdf\n",
      "  if __name__ == '__main__':\n"
     ]
    },
    {
     "data": {
      "image/png": "[encoded data removed]",
      "text/plain": [
       "<Figure size 432x288 with 1 Axes>"
      ]
     },
     "metadata": {},
     "output_type": "display_data"
    },
    {
     "name": "stdout",
     "output_type": "stream",
     "text": [
      "-0.3253137254901959\n",
      "3.367516859607843\n"
     ]
    }
   ],
   "source": [
    "err = []\n",
    "for idx in range(len(ytest.values.ravel())):\n",
    "    err.append(ytest.values.ravel()[idx]-ypredict[idx])\n",
    "print (err)\n",
    "mu = mean(err) #mean_absolute_error(flattentest, ypredict)\n",
    "var = variance(err) #mean_squared_error(flattentest, ypredict)\n",
    "sigma = math.sqrt(var)\n",
    "x = np.linspace(mu - 3*sigma, mu + 3*sigma, 100)\n",
    "plt.plot(x,mlab.normpdf(x, mu, sigma))\n",
    "plt.show()\n",
    "print (mu)\n",
    "print (var)"
   ]
  },
  {
   "cell_type": "code",
   "execution_count": null,
   "metadata": {},
   "outputs": [],
   "source": []
  }
 ],
 "metadata": {
  "kernelspec": {
   "display_name": "Python 3",
   "language": "python",
   "name": "python3"
  },
  "language_info": {
   "codemirror_mode": {
    "name": "ipython",
    "version": 3
   },
   "file_extension": ".py",
   "mimetype": "text/x-python",
   "name": "python",
   "nbconvert_exporter": "python",
   "pygments_lexer": "ipython3",
   "version": "3.5.2"
  }
 },
 "nbformat": 4,
 "nbformat_minor": 2
}
