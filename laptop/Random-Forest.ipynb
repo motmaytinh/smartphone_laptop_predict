{
 "cells": [
  {
   "cell_type": "code",
   "execution_count": 22,
   "metadata": {},
   "outputs": [],
   "source": [
    "import numpy as np\n",
    "import pandas as pd\n",
    "from sklearn.ensemble import RandomForestRegressor\n",
    "from sklearn.metrics import mean_absolute_error\n",
    "from sklearn.metrics import mean_squared_error\n",
    "from statistics import mean, variance, pvariance\n",
    "import matplotlib.pyplot as plt\n",
    "import matplotlib.mlab as mlab\n",
    "import math\n",
    "from sklearn.cross_validation import train_test_split\n",
    "from sklearn.utils import resample"
   ]
  },
  {
   "cell_type": "code",
   "execution_count": 33,
   "metadata": {},
   "outputs": [],
   "source": [
    "data = pd.read_csv(\"processedlaptopinfo.csv\", sep = \",\")\n",
    "data = data.sample(frac=1).reset_index(drop=True)\n",
    "data = data.drop('Unnamed: 0', axis=1)\n",
    "\n",
    "data = resample(data, n_samples = 470, random_state=0)\n",
    "\n",
    "traindata, testdata = train_test_split(data, test_size=0.2, random_state=0)\n",
    "\n",
    "# traindata = data[:-83]\n",
    "# testdata = data[340:]\n",
    "\n",
    "Xtrain = traindata.drop('Price', axis = 1)\n",
    "ytrain = traindata[['Price']]\n",
    "\n",
    "Xtest = testdata.drop('Price', axis = 1)\n",
    "ytest = testdata[['Price']]\n",
    "\n",
    "# print (data.head())"
   ]
  },
  {
   "cell_type": "code",
   "execution_count": 34,
   "metadata": {
    "scrolled": true
   },
   "outputs": [
    {
     "data": {
      "text/plain": [
       "932234.0425531915"
      ]
     },
     "execution_count": 34,
     "metadata": {},
     "output_type": "execute_result"
    }
   ],
   "source": [
    "ctf = RandomForestRegressor(n_estimators = 50)\n",
    "ctf.fit(Xtrain, ytrain.values.ravel())\n",
    "ypredict = ctf.predict(Xtest)\n",
    "flattentest = ytest.values.ravel()\n",
    "# print(ytest.values.ravel().shape)\n",
    "# print(ypredict.shape)\n",
    "mean_absolute_error(flattentest, ypredict)"
   ]
  },
  {
   "cell_type": "code",
   "execution_count": 36,
   "metadata": {},
   "outputs": [
    {
     "name": "stdout",
     "output_type": "stream",
     "text": [
      "[136000.0, 712140.0, -615800.0, -334400.0, -1266000.0, -500400.0, -544400.0, -604180.0, 8450000.0, 30000.0, -828180.0, 0.0, 367200.0, -66000.0, -1397200.0, 60000.0, -470600.0, -726400.0, -2479400.0, -1124000.0, 1990800.0, -417200.0, -649580.0, -1148000.0, -436600.0, -2262800.0, 129000.0, 461800.0, -17200.0, -802800.0, -32340.0, -266140.0, 1777020.0, -3393000.0, -374000.0, -341200.0, -679200.0, -802580.0, 368600.0, 577000.0, -916780.0, -195180.0, 482800.0, -1148000.0, -675200.0, -675200.0, -411380.0, 124000.0, -172000.0, -1598800.0, 124000.0, -2262800.0, 9000.0, -480000.0, -1520200.0, -322200.0, 659600.0, -998000.0, 1436740.0, 461800.0, 1645800.0, 577000.0, 102000.0, 3488000.0, -470600.0, -998000.0, 24000.0, 194040.0, -506000.0, 1018800.0, -77760.0, 618000.0, 461800.0, -376400.0, 60000.0, 130000.0, -726400.0, 541800.0, -288000.0, 2381200.0, 627800.0, -450400.0, -1056200.0, -362200.0, -1594000.0, -3437000.0, 8025800.0, 199820.0, 1583600.0, 2092000.0, -386000.0, -266140.0, -436600.0, -114000.0]\n"
     ]
    },
    {
     "name": "stderr",
     "output_type": "stream",
     "text": [
      "/usr/local/lib/python3.5/dist-packages/ipykernel_launcher.py:9: MatplotlibDeprecationWarning: scipy.stats.norm.pdf\n",
      "  if __name__ == '__main__':\n"
     ]
    },
    {
     "data": {
      "image/png": "[encoded data removed]",
      "text/plain": [
       "<Figure size 432x288 with 1 Axes>"
      ]
     },
     "metadata": {},
     "output_type": "display_data"
    },
    {
     "name": "stdout",
     "output_type": "stream",
     "text": [
      "-35873.1914893617\n",
      "2635002190378.952\n",
      "1623268.982756386\n"
     ]
    }
   ],
   "source": [
    "err = []\n",
    "for idx in range(len(flattentest)):\n",
    "    err.append(flattentest[idx]-ypredict[idx])\n",
    "print (err)\n",
    "mu = mean(err) #mean_absolute_error(flattentest, ypredict)\n",
    "var = variance(err) #mean_squared_error(flattentest, ypredict)\n",
    "sigma = math.sqrt(var)\n",
    "x = np.linspace(mu - 3*sigma, mu + 3*sigma, 100)\n",
    "plt.plot(x,mlab.normpdf(x, mu, sigma))\n",
    "plt.show()\n",
    "print (mu)\n",
    "print (var)\n",
    "print (sigma)"
   ]
  },
  {
   "cell_type": "code",
   "execution_count": null,
   "metadata": {},
   "outputs": [],
   "source": []
  }
 ],
 "metadata": {
  "kernelspec": {
   "display_name": "Python 3",
   "language": "python",
   "name": "python3"
  },
  "language_info": {
   "codemirror_mode": {
    "name": "ipython",
    "version": 3
   },
   "file_extension": ".py",
   "mimetype": "text/x-python",
   "name": "python",
   "nbconvert_exporter": "python",
   "pygments_lexer": "ipython3",
   "version": "3.5.2"
  }
 },
 "nbformat": 4,
 "nbformat_minor": 2
}
