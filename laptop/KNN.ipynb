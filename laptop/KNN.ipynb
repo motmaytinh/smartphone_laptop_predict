{
 "cells": [
  {
   "cell_type": "code",
   "execution_count": 5,
   "metadata": {},
   "outputs": [],
   "source": [
    "import numpy as np\n",
    "import pandas as pd\n",
    "from sklearn.neighbors import KNeighborsRegressor\n",
    "from sklearn.metrics import mean_absolute_error\n",
    "from sklearn.metrics import mean_squared_error\n",
    "from statistics import mean, variance, pvariance\n",
    "import matplotlib.pyplot as plt\n",
    "import matplotlib.mlab as mlab\n",
    "import math\n",
    "from sklearn.cross_validation import train_test_split\n",
    "from sklearn.model_selection import cross_validate\n",
    "from sklearn.utils import resample"
   ]
  },
  {
   "cell_type": "code",
   "execution_count": 6,
   "metadata": {},
   "outputs": [],
   "source": [
    "data = pd.read_csv(\"processedlaptopinfo.csv\", sep = \",\")\n",
    "# data = data.sample(frac=1).reset_index(drop=True)\n",
    "data = data.drop('Unnamed: 0', axis=1)\n",
    "\n",
    "data = resample(data, n_samples = 470, random_state=0)\n",
    "\n",
    "traindata, testdata = train_test_split(data, test_size=0.2, random_state=42)\n",
    "\n",
    "# traindata = data[:-83]\n",
    "# testdata = data[340:]\n",
    "\n",
    "# print(traindata.shape)\n",
    "# print(testdata.shape)\n",
    "\n",
    "Xtrain = traindata.drop('Price', axis = 1)\n",
    "ytrain = traindata[['Price']]\n",
    "\n",
    "Xtest = testdata.drop('Price', axis = 1)\n",
    "ytest = testdata[['Price']]"
   ]
  },
  {
   "cell_type": "code",
   "execution_count": 7,
   "metadata": {},
   "outputs": [
    {
     "data": {
      "text/plain": [
       "1020308.5106382979"
      ]
     },
     "execution_count": 7,
     "metadata": {},
     "output_type": "execute_result"
    }
   ],
   "source": [
    "neigh = KNeighborsRegressor(n_neighbors=1)\n",
    "neigh.fit(Xtrain, ytrain.values.ravel())\n",
    "ypredict = neigh.predict(Xtest)\n",
    "mean_absolute_error(ytest.values.ravel(), ypredict)\n",
    "# cv_results = cross_validate(neigh, data.drop('Price', axis=1), data['Price'], return_train_score=False)\n",
    "# cv_results['test_score'] "
   ]
  },
  {
   "cell_type": "code",
   "execution_count": 8,
   "metadata": {},
   "outputs": [
    {
     "name": "stdout",
     "output_type": "stream",
     "text": [
      "[0.0, 0.0, 0.0, 0.0, 3400000.0, -2700000.0, 0.0, -4210000.0, 0.0, 100000.0, 0.0, 0.0, 0.0, 0.0, 0.0, 0.0, -4000000.0, 0.0, 100000.0, 0.0, -10100000.0, 0.0, 1740000.0, 1500000.0, 0.0, 200000.0, 3700000.0, 0.0, -2700000.0, 2300000.0, -6300000.0, 0.0, 0.0, -2350000.0, -1700000.0, 0.0, 0.0, 0.0, -2700000.0, 0.0, 0.0, 0.0, 1500000.0, 0.0, 600000.0, 0.0, 0.0, 4000000.0, 0.0, 0.0, -7000000.0, 0.0, -2300000.0, 0.0, 0.0, 4000000.0, 0.0, 0.0, 0.0, -1700000.0, 509000.0, 0.0, 0.0, -3500000.0, 0.0, 0.0, 0.0, -900000.0, 3600000.0, -1500000.0, 0.0, 0.0, 0.0, 0.0, 0.0, -1300000.0, 0.0, 0.0, -200000.0, 0.0, -200000.0, 0.0, -4000000.0, 0.0, -200000.0, -900000.0, -1250000.0, 0.0, 0.0, 3750000.0, -2300000.0, 900000.0, 0.0, 0.0]\n"
     ]
    },
    {
     "name": "stderr",
     "output_type": "stream",
     "text": [
      "/usr/local/lib/python3.5/dist-packages/ipykernel_launcher.py:9: MatplotlibDeprecationWarning: scipy.stats.norm.pdf\n",
      "  if __name__ == '__main__':\n"
     ]
    },
    {
     "data": {
      "image/png": "[encoded data removed]",
      "text/plain": [
       "<Figure size 432x288 with 1 Axes>"
      ]
     },
     "metadata": {},
     "output_type": "display_data"
    },
    {
     "name": "stdout",
     "output_type": "stream",
     "text": [
      "-341606.3829787234\n",
      "4207300628345.9165\n",
      "2051170.550769954\n"
     ]
    }
   ],
   "source": [
    "err = []\n",
    "for idx in range(len(ytest.values.ravel())):\n",
    "    err.append(ytest.values.ravel()[idx]-ypredict[idx])\n",
    "print (err)\n",
    "mu = mean(err) #mean_absolute_error(flattentest, ypredict)\n",
    "var = variance(err) #mean_squared_error(flattentest, ypredict)\n",
    "sigma = math.sqrt(var)\n",
    "x = np.linspace(mu - 3*sigma, mu + 3*sigma, 100)\n",
    "plt.plot(x,mlab.normpdf(x, mu, sigma))\n",
    "plt.show()\n",
    "print (mu)\n",
    "print (var)\n",
    "print (sigma)"
   ]
  },
  {
   "cell_type": "code",
   "execution_count": null,
   "metadata": {},
   "outputs": [],
   "source": []
  }
 ],
 "metadata": {
  "kernelspec": {
   "display_name": "Python 3",
   "language": "python",
   "name": "python3"
  },
  "language_info": {
   "codemirror_mode": {
    "name": "ipython",
    "version": 3
   },
   "file_extension": ".py",
   "mimetype": "text/x-python",
   "name": "python",
   "nbconvert_exporter": "python",
   "pygments_lexer": "ipython3",
   "version": "3.5.2"
  }
 },
 "nbformat": 4,
 "nbformat_minor": 2
}
