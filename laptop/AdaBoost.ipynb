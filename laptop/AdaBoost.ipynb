{
 "cells": [
  {
   "cell_type": "code",
   "execution_count": 17,
   "metadata": {},
   "outputs": [],
   "source": [
    "import numpy as np\n",
    "import pandas as pd\n",
    "from sklearn.tree import DecisionTreeRegressor\n",
    "from sklearn.ensemble import AdaBoostRegressor\n",
    "from sklearn.metrics import mean_squared_error\n",
    "from statistics import mean, variance, pvariance\n",
    "import matplotlib.pyplot as plt\n",
    "import matplotlib.mlab as mlab\n",
    "import math\n",
    "from sklearn.cross_validation import train_test_split\n",
    "from sklearn.utils import resample"
   ]
  },
  {
   "cell_type": "code",
   "execution_count": 20,
   "metadata": {},
   "outputs": [],
   "source": [
    "data = pd.read_csv(\"processedlaptopinfo.csv\", sep = \",\")\n",
    "data = data.sample(frac=1).reset_index(drop=True)\n",
    "\n",
    "data = data.drop('Unnamed: 0', axis=1)\n",
    "\n",
    "data = resample(data, n_samples = 470, random_state=0)\n",
    "\n",
    "traindata, testdata = train_test_split(data, test_size=0.2, random_state=0)\n",
    "\n",
    "# traindata = data[:-83]\n",
    "# testdata = data[338:]\n",
    "\n",
    "Xtrain = traindata.drop('Price', axis = 1)\n",
    "ytrain = traindata[['Price']]\n",
    "\n",
    "Xtest = testdata.drop('Price', axis = 1)\n",
    "ytest = testdata[['Price']]"
   ]
  },
  {
   "cell_type": "code",
   "execution_count": 21,
   "metadata": {},
   "outputs": [
    {
     "data": {
      "text/plain": [
       "701932.5521228116"
      ]
     },
     "execution_count": 21,
     "metadata": {},
     "output_type": "execute_result"
    }
   ],
   "source": [
    "ada = AdaBoostRegressor(DecisionTreeRegressor(max_depth=10), n_estimators = 50)\n",
    "ada.fit(Xtrain, ytrain.values.ravel())\n",
    "ypredict = ada.predict(Xtest)\n",
    "mean_absolute_error(ytest.values.ravel(), ypredict)"
   ]
  },
  {
   "cell_type": "code",
   "execution_count": 24,
   "metadata": {},
   "outputs": [
    {
     "name": "stdout",
     "output_type": "stream",
     "text": [
      "[-250000.0, -2100000.0, 0.0, -10000.0, -1704444.444444444, 0.0, 289361.7021276597, 7390000.0, -700000.0, 0.0, 1100000.0, 0.0, 0.0, 0.0, 1300000.0, 0.0, 400000.0, 1490000.0, 2955555.555555556, 0.0, 0.0, 450000.0, 0.0, 0.0, 0.0, 1360000.0, 433333.3333333321, 751857.1428571437, 0.0, -10000.0, -500000.0, -2244285.7142857146, 1833333.333333334, 2199722.222222222, 0.0, 0.0, 450000.0, 699722.222222222, -300000.0, 0.0, 686875.0, -2690000.0, 0.0, 0.0, 0.0, 0.0, -2709818.1818181816, 0.0, 0.0, 0.0, 0.0, 1360000.0, 0.0, 0.0, 3500000.0, 0.0, 1128947.3684210535, 1470000.0, 0.0, 751857.1428571437, 0.0, 0.0, 450000.0, 905666.666666666, 400000.0, 1470000.0, 714848.4848484844, 0.0, 1001000.0, -2282692.307692308, 885714.2857142854, -2400000.0, 751857.1428571437, 0.0, 0.0, -500277.777777778, -560000.0, 700000.0, 0.0, 2799000.0, 400000.0, -300000.0, 0.0, 165277.77777777798, 0.0, 0.0, 305714.28571428545, 916708.333333334, -999000.0, 0.0, 200000.0, -539000.0, 0.0, 1115789.4736842103]\n"
     ]
    },
    {
     "name": "stderr",
     "output_type": "stream",
     "text": [
      "/usr/local/lib/python3.5/dist-packages/ipykernel_launcher.py:9: MatplotlibDeprecationWarning: scipy.stats.norm.pdf\n",
      "  if __name__ == '__main__':\n"
     ]
    },
    {
     "data": {
      "image/png": "[encoded data removed]",
      "text/plain": [
       "<Figure size 432x288 with 1 Axes>"
      ]
     },
     "metadata": {},
     "output_type": "display_data"
    },
    {
     "name": "stdout",
     "output_type": "stream",
     "text": [
      "259389.6068883769\n",
      "1616449495310.0457\n",
      "1271396.6711101793\n"
     ]
    }
   ],
   "source": [
    "err = []\n",
    "for idx in range(len(ytest.values.ravel())):\n",
    "    err.append(ytest.values.ravel()[idx]-ypredict[idx])\n",
    "print (err)\n",
    "mu = mean(err) #mean_absolute_error(flattentest, ypredict)\n",
    "var = variance(err) #mean_squared_error(flattentest, ypredict)\n",
    "sigma = math.sqrt(var)\n",
    "x = np.linspace(mu - 3*sigma, mu + 3*sigma, 100)\n",
    "plt.plot(x,mlab.normpdf(x, mu, sigma))\n",
    "plt.show()\n",
    "print (mu)\n",
    "print (var)\n",
    "print (sigma)"
   ]
  },
  {
   "cell_type": "code",
   "execution_count": null,
   "metadata": {},
   "outputs": [],
   "source": []
  }
 ],
 "metadata": {
  "kernelspec": {
   "display_name": "Python 3",
   "language": "python",
   "name": "python3"
  },
  "language_info": {
   "codemirror_mode": {
    "name": "ipython",
    "version": 3
   },
   "file_extension": ".py",
   "mimetype": "text/x-python",
   "name": "python",
   "nbconvert_exporter": "python",
   "pygments_lexer": "ipython3",
   "version": "3.5.2"
  }
 },
 "nbformat": 4,
 "nbformat_minor": 2
}
