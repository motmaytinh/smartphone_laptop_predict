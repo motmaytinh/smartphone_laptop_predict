{
 "cells": [
  {
   "cell_type": "code",
   "execution_count": 5,
   "metadata": {},
   "outputs": [],
   "source": [
    "import numpy as np\n",
    "import pandas as pd\n",
    "from sklearn.ensemble import BaggingRegressor\n",
    "from sklearn.tree import DecisionTreeRegressor\n",
    "from sklearn.metrics import mean_absolute_error\n",
    "from sklearn.metrics import mean_squared_error\n",
    "from statistics import mean, variance, pvariance\n",
    "import matplotlib.pyplot as plt\n",
    "import matplotlib.mlab as mlab\n",
    "import math"
   ]
  },
  {
   "cell_type": "code",
   "execution_count": 17,
   "metadata": {},
   "outputs": [],
   "source": [
    "data = pd.read_csv(\"processedsmartphoneinfo.csv\", sep = \";\")\n",
    "data = data.sample(frac=1).reset_index(drop=True)\n",
    "\n",
    "traindata = data[:-51]\n",
    "testdata = data[230:]\n",
    "\n",
    "Xtrain = traindata.drop('price', axis = 1)\n",
    "ytrain = traindata[['price']]\n",
    "\n",
    "Xtest = testdata.drop('price', axis = 1)\n",
    "ytest = testdata[['price']]"
   ]
  },
  {
   "cell_type": "code",
   "execution_count": 18,
   "metadata": {},
   "outputs": [
    {
     "data": {
      "text/plain": [
       "0.6613595497341009"
      ]
     },
     "execution_count": 18,
     "metadata": {},
     "output_type": "execute_result"
    }
   ],
   "source": [
    "bag = BaggingRegressor(DecisionTreeRegressor(max_depth=10), n_estimators = 75)\n",
    "bag.fit(Xtrain, ytrain.values.ravel())\n",
    "ypredict = bag.predict(Xtest)\n",
    "mean_absolute_error(ytest.values.ravel(), ypredict)"
   ]
  },
  {
   "cell_type": "code",
   "execution_count": 20,
   "metadata": {},
   "outputs": [
    {
     "name": "stdout",
     "output_type": "stream",
     "text": [
      "[-0.10185950864755, 0.18521333333332635, -0.04770158730158647, 0.9073333333333267, -0.36025196729196685, 1.7054920634920556, 0.2748205146734497, -0.22730014652014896, 4.484666666666659, -0.42835214376938957, -0.2635467452807667, 0.6586666666666616, 2.929648092352089, -2.4864622222222295, 0.11795147744403289, -0.06674666666666629, -0.27141188959993556, 0.5281935449735453, -0.39458875816993544, -0.8106073015873045, -0.00957333333334276, -0.4769869637004813, 0.3580104697771329, 1.283555555555548, -0.022046383990335983, -0.5708764398644846, 0.2899187301587265, -2.344316129549467, -0.2155785054945074, 0.07212625836908115, 0.1549264444444418, 0.07363144332209792, 0.04209579975580091, 0.6245399598243937, 0.03782666666666756, -0.821555555555566, -0.12263619047619034, -0.1293736703296715, -0.03755555555556356, 0.033599999999998964, -0.5480000000000054, 0.14615206349206522, -0.27025954882155023, 0.9170558459423983, -0.5817016296296273, 0.08502142319554107, -0.38985999999999965, -0.05343597883597839, 2.100305860805859, -0.9080000000000048, 2.757999999999992]\n"
     ]
    },
    {
     "name": "stderr",
     "output_type": "stream",
     "text": [
      "/usr/local/lib/python3.5/dist-packages/ipykernel_launcher.py:9: MatplotlibDeprecationWarning: scipy.stats.norm.pdf\n",
      "  if __name__ == '__main__':\n"
     ]
    },
    {
     "data": {
      "image/png": "[encoded data removed]",
      "text/plain": [
       "<Figure size 432x288 with 1 Axes>"
      ]
     },
     "metadata": {},
     "output_type": "display_data"
    },
    {
     "name": "stdout",
     "output_type": "stream",
     "text": [
      "0.15310132141275754\n",
      "1.2652047197601082\n"
     ]
    }
   ],
   "source": [
    "err = []\n",
    "for idx in range(len(ytest.values.ravel())):\n",
    "    err.append(ytest.values.ravel()[idx]-ypredict[idx])\n",
    "print (err)\n",
    "mu = mean(err) #mean_absolute_error(flattentest, ypredict)\n",
    "var = variance(err) #mean_squared_error(flattentest, ypredict)\n",
    "sigma = math.sqrt(var)\n",
    "x = np.linspace(mu - 3*sigma, mu + 3*sigma, 100)\n",
    "plt.plot(x,mlab.normpdf(x, mu, sigma))\n",
    "plt.show()\n",
    "print (mu)\n",
    "print (var)"
   ]
  },
  {
   "cell_type": "code",
   "execution_count": null,
   "metadata": {},
   "outputs": [],
   "source": []
  }
 ],
 "metadata": {
  "kernelspec": {
   "display_name": "Python 3",
   "language": "python",
   "name": "python3"
  },
  "language_info": {
   "codemirror_mode": {
    "name": "ipython",
    "version": 3
   },
   "file_extension": ".py",
   "mimetype": "text/x-python",
   "name": "python",
   "nbconvert_exporter": "python",
   "pygments_lexer": "ipython3",
   "version": "3.5.2"
  }
 },
 "nbformat": 4,
 "nbformat_minor": 2
}
