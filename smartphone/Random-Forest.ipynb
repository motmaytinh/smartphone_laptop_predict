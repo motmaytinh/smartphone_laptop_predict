{
 "cells": [
  {
   "cell_type": "code",
   "execution_count": 42,
   "metadata": {},
   "outputs": [],
   "source": [
    "import numpy as np\n",
    "import pandas as pd\n",
    "from sklearn.ensemble import RandomForestRegressor\n",
    "from sklearn.metrics import mean_absolute_error\n",
    "from sklearn.metrics import mean_squared_error\n",
    "from statistics import mean, variance, pvariance\n",
    "import matplotlib.pyplot as plt\n",
    "import matplotlib.mlab as mlab\n",
    "import math"
   ]
  },
  {
   "cell_type": "code",
   "execution_count": 13,
   "metadata": {},
   "outputs": [],
   "source": [
    "data = pd.read_csv('processedsmartphoneinfo.csv', sep = \";\")\n",
    "data = data.sample(frac=1).reset_index(drop=True)\n",
    "\n",
    "traindata = data[:-51]\n",
    "testdata = data[230:]\n",
    "\n",
    "Xtrain = traindata.drop('price', axis = 1)\n",
    "ytrain = traindata[['price']]\n",
    "\n",
    "Xtest = testdata.drop('price', axis = 1)\n",
    "ytest = testdata[['price']]"
   ]
  },
  {
   "cell_type": "code",
   "execution_count": 48,
   "metadata": {
    "scrolled": true
   },
   "outputs": [
    {
     "data": {
      "text/plain": [
       "0.6442611764705892"
      ]
     },
     "execution_count": 48,
     "metadata": {},
     "output_type": "execute_result"
    }
   ],
   "source": [
    "ctf = RandomForestRegressor(n_estimators = 50)\n",
    "ctf.fit(Xtrain, ytrain.values.ravel())\n",
    "ypredict = ctf.predict(Xtest)\n",
    "flattentest = ytest.values.ravel()\n",
    "# print(ytest.values.ravel().shape)\n",
    "# print(ypredict.shape)\n",
    "mean_absolute_error(flattentest, ypredict)"
   ]
  },
  {
   "cell_type": "code",
   "execution_count": 56,
   "metadata": {},
   "outputs": [
    {
     "name": "stdout",
     "output_type": "stream",
     "text": [
      "[1.3101999999999947, 0.0006000000000012662, -0.4460000000000024, -0.04600000000000648, 0.30600000000000005, -2.1623600000000067, -0.7183599999999952, -0.8081799999999992, -0.09219999999999984, 0.5349199999999996, 0.10399999999998855, -0.044379999999999864, -0.782799999999999, -4.685080000000008, 0.4299999999999926, -0.22320000000000007, -0.2300000000000031, -0.389759999999999, 0.12200000000000699, 0.05799999999999628, -0.7241799999999987, -0.16417999999999733, -3.2523600000000066, 0.07963999999999949, -0.46400000000000396, 1.1000000000000014, 0.0027999999999992475, 0.44200000000001083, -2.520000000000005, -0.006400000000001516, -1.1220000000000052, 0.1516400000000031, -0.43199999999999683, -0.3220000000000036, 0.8979999999999988, -0.8240000000000034, -0.1740000000000066, 0.17599999999999483, -0.2755599999999996, -0.23908000000000484, 0.11100000000000088, 0.3120000000000007, -0.2556200000000004, -0.32600000000000406, -0.7097400000000018, -0.3569000000000031, 2.4659999999999993, 0.15745999999999682, -0.22472000000000225, 0.357999999999997, -0.7159999999999993]\n"
     ]
    },
    {
     "name": "stderr",
     "output_type": "stream",
     "text": [
      "/usr/local/lib/python3.5/dist-packages/ipykernel_launcher.py:9: MatplotlibDeprecationWarning: scipy.stats.norm.pdf\n",
      "  if __name__ == '__main__':\n"
     ]
    },
    {
     "data": {
      "image/png": "[encoded data removed]",
      "text/plain": [
       "<Figure size 432x288 with 1 Axes>"
      ]
     },
     "metadata": {},
     "output_type": "display_data"
    },
    {
     "name": "stdout",
     "output_type": "stream",
     "text": [
      "-0.286603921568629\n",
      "1.1412654406243163\n"
     ]
    }
   ],
   "source": [
    "err = []\n",
    "for idx in range(len(flattentest)):\n",
    "    err.append(flattentest[idx]-ypredict[idx])\n",
    "print (err)\n",
    "mu = mean(err) #mean_absolute_error(flattentest, ypredict)\n",
    "var = variance(err) #mean_squared_error(flattentest, ypredict)\n",
    "sigma = math.sqrt(var)\n",
    "x = np.linspace(mu - 3*sigma, mu + 3*sigma, 100)\n",
    "plt.plot(x,mlab.normpdf(x, mu, sigma))\n",
    "plt.show()\n",
    "print (mu)\n",
    "print (var)"
   ]
  },
  {
   "cell_type": "code",
   "execution_count": null,
   "metadata": {},
   "outputs": [],
   "source": []
  }
 ],
 "metadata": {
  "kernelspec": {
   "display_name": "Python 3",
   "language": "python",
   "name": "python3"
  },
  "language_info": {
   "codemirror_mode": {
    "name": "ipython",
    "version": 3
   },
   "file_extension": ".py",
   "mimetype": "text/x-python",
   "name": "python",
   "nbconvert_exporter": "python",
   "pygments_lexer": "ipython3",
   "version": "3.5.2"
  }
 },
 "nbformat": 4,
 "nbformat_minor": 2
}
